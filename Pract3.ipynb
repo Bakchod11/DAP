{
 "cells": [
  {
   "cell_type": "markdown",
   "id": "95859507",
   "metadata": {},
   "source": [
    "# Task 1"
   ]
  },
  {
   "cell_type": "code",
   "execution_count": 3,
   "id": "02035702",
   "metadata": {},
   "outputs": [
    {
     "name": "stdout",
     "output_type": "stream",
     "text": [
      "What would you like to buy? Sofa set\n",
      "Item doesn't exist\n",
      "What would you like to buy? 23\n",
      "Item doesn't exist\n",
      "What would you like to buy? Sofa Set\n",
      "How many pieces do you want to buy? 34\n",
      "The total cost is 680000\n"
     ]
    }
   ],
   "source": [
    "furniture = [\"Sofa Set\", \"Dining Table\", \"TV Stand\", \"Cupboard\"]\n",
    "cost = [20000,8500,4599,13920]\n",
    "\n",
    "while True:\n",
    "    nameFurniture = input(\"What would you like to buy? \")\n",
    "    if nameFurniture not in furniture:\n",
    "        print(\"Item doesn't exist\")\n",
    "    else:\n",
    "        idx = furniture.index(nameFurniture)\n",
    "        break\n",
    "    \n",
    "quantity = int(input(\"How many pieces do you want to buy? \"))\n",
    "billAmount = cost[idx] * quantity\n",
    "print(f\"The total cost is {billAmount}\")"
   ]
  },
  {
   "cell_type": "markdown",
   "id": "73a83cb2",
   "metadata": {},
   "source": [
    "# Task 2"
   ]
  },
  {
   "cell_type": "code",
   "execution_count": 1,
   "id": "f08b4717",
   "metadata": {},
   "outputs": [
    {
     "name": "stdout",
     "output_type": "stream",
     "text": [
      "The number of courses opted by John are 4\n",
      "The courses opted by John are ('Python Programming', 'RDBMS', 'Web Technology', 'Software Engg.')\n",
      "The all courses listed are\n",
      "Python Programming, RDBMS, Web Technology, Software Engg., Business Intelligence, Big Data Analytics, "
     ]
    }
   ],
   "source": [
    "courses = (\"Python Programming\", \"RDBMS\", \"Web Technology\", \"Software Engg.\")\n",
    "electives = (\"Business Intelligence\", \"Big Data Analytics\")\n",
    "\n",
    "print(f\"The number of courses opted by John are {len(courses)}\")\n",
    "print(f\"The courses opted by John are {courses}\")\n",
    "print(\"The all courses listed are\")\n",
    "for course in courses+electives:\n",
    "    print(course, end=\", \")"
   ]
  },
  {
   "cell_type": "markdown",
   "id": "b90a294e",
   "metadata": {},
   "source": [
    "# Task 3"
   ]
  },
  {
   "cell_type": "code",
   "execution_count": 15,
   "id": "9dc4537e",
   "metadata": {},
   "outputs": [
    {
     "name": "stdout",
     "output_type": "stream",
     "text": [
      "The student John scored 86.5\n",
      "The student Jack scored 91.2\n",
      "The student Jill scored 84.5\n",
      "The student Harry scored 72.1\n",
      "The student Joe scored 80.5\n",
      "The two top scorers are: \n",
      "Jack\n",
      "John\n",
      "The average of marks is 82.96\n"
     ]
    }
   ],
   "source": [
    "student_marks = {\"John\": 86.5, \"Jack\": 91.2, \"Jill\": 84.5, \"Harry\": 72.1, \"Joe\": 80.5}\n",
    "total_marks = 0\n",
    "\n",
    "for names, marks in student_marks.items():\n",
    "    print(f\"The student {names} scored {marks}\")\n",
    "    total_marks = total_marks + marks\n",
    "\n",
    "sorted_marks = sorted(student_marks.items(), key=lambda x:x[1])\n",
    "print(\"The two top scorers are: \")\n",
    "print(list(sorted_marks[-1])[0])\n",
    "print(list(sorted_marks[-2])[0])\n",
    "\n",
    "print(f\"The average of marks is {total_marks/len(student_marks)}\")"
   ]
  },
  {
   "cell_type": "markdown",
   "id": "52e14c94",
   "metadata": {},
   "source": [
    "# Task 4"
   ]
  },
  {
   "cell_type": "code",
   "execution_count": 28,
   "id": "cf3d7642",
   "metadata": {},
   "outputs": [
    {
     "name": "stdout",
     "output_type": "stream",
     "text": [
      "{'Jack', 'Jill', 'John', 'Joe'}\n",
      "{'Jill', 'Eric', 'John', 'Jake'}\n",
      "The students enrolled for python course are: \n",
      "Jill\n",
      "Eric\n",
      "John\n",
      "Jake\n",
      "The students enrolled for python course only are: \n",
      "Eric\n",
      "Jake\n",
      "The students enrolled for java course only are: \n",
      "Jack\n",
      "Joe\n",
      "The students enrolled for both python and java courses are: \n",
      "Jack\n",
      "John\n",
      "Joe\n",
      "Jake\n",
      "Eric\n",
      "Jill\n",
      "The students enrolled for either java or python course but not both are: \n",
      "Eric\n",
      "Jack\n",
      "Jake\n",
      "Joe\n"
     ]
    }
   ],
   "source": [
    "java_course = {\"John\", \"Jack\", \"Jill\", \"Joe\"}\n",
    "python_course = {\"Jake\", \"John\", \"Eric\", \"Jill\"}\n",
    "\n",
    "all_students = java_course.union(python_course)\n",
    "same_students = java_course.intersection(python_course)\n",
    "python_only = python_course.difference(java_course)\n",
    "java_only = java_course.difference(python_course)\n",
    "\n",
    "print(java_course)\n",
    "print(python_course)\n",
    "print(\"The students enrolled for python course are: \")\n",
    "for student in python_course:\n",
    "    print(student)\n",
    "\n",
    "print(\"The students enrolled for python course only are: \")    \n",
    "for student in python_only:\n",
    "    print(student)\n",
    "    \n",
    "print(\"The students enrolled for java course only are: \")    \n",
    "for student in java_only:\n",
    "    print(student)\n",
    "\n",
    "print(\"The students enrolled for both python and java courses are: \")\n",
    "for student in all_students:\n",
    "    print(student)\n",
    "    \n",
    "print(\"The students enrolled for either java or python course but not both are: \")\n",
    "for student in all_students.difference(same_students):\n",
    "    print(student)"
   ]
  },
  {
   "cell_type": "markdown",
   "id": "3c4edbc8",
   "metadata": {},
   "source": [
    "# Task 5"
   ]
  },
  {
   "cell_type": "code",
   "execution_count": 3,
   "id": "e661df45",
   "metadata": {},
   "outputs": [
    {
     "name": "stdout",
     "output_type": "stream",
     "text": [
      "[(0, 1), (1, 0)]\n"
     ]
    }
   ],
   "source": [
    "import itertools\n",
    "\n",
    "digits = []\n",
    "no_digits = int(input(\"Enter no of digits: \"))\n",
    "for i in range(no_digits):\n",
    "    digits.append(int(input()))\n",
    "permutations = list(itertools.permutations(digits))\n",
    "print(permutations)"
   ]
  },
  {
   "cell_type": "markdown",
   "id": "28a4dc39",
   "metadata": {},
   "source": [
    "# Task 6"
   ]
  },
  {
   "cell_type": "code",
   "execution_count": 8,
   "id": "b65d7d6b",
   "metadata": {},
   "outputs": [
    {
     "name": "stdout",
     "output_type": "stream",
     "text": [
      "How many numbers you want to enter? 3\n",
      "1\n",
      "3\n",
      "4\n"
     ]
    },
    {
     "data": {
      "text/plain": [
       "1"
      ]
     },
     "execution_count": 8,
     "metadata": {},
     "output_type": "execute_result"
    }
   ],
   "source": [
    "def LongestConsecutiveSequence():\n",
    "    arr = []\n",
    "    no_digits = int(input(\"How many numbers you want to enter? \"))\n",
    "    for i in range(no_digits):\n",
    "        digits.append(int(input()))\n",
    "    arr.sort()\n",
    "    max_count = 1\n",
    "    count = 1\n",
    "    for i in range(1, len(arr)):\n",
    "        if arr[i] - arr[i-1] == 1:\n",
    "            count = count + 1\n",
    "        else:\n",
    "            if count > max_count:\n",
    "                max_count = count\n",
    "            count = 1\n",
    "        if count > max_count:\n",
    "            max_count = count\n",
    "    return max_count\n",
    "\n",
    "LongestConsecutiveSequence()"
   ]
  },
  {
   "cell_type": "code",
   "execution_count": null,
   "id": "a1064eeb",
   "metadata": {},
   "outputs": [],
   "source": []
  }
 ],
 "metadata": {
  "kernelspec": {
   "display_name": "Python 3",
   "language": "python",
   "name": "python3"
  },
  "language_info": {
   "codemirror_mode": {
    "name": "ipython",
    "version": 3
   },
   "file_extension": ".py",
   "mimetype": "text/x-python",
   "name": "python",
   "nbconvert_exporter": "python",
   "pygments_lexer": "ipython3",
   "version": "3.8.5"
  },
  "vscode": {
   "interpreter": {
    "hash": "fbe58ca63fe33f9eeae9e71d10368d2b4a57f2b1b395836210cc60d362c66949"
   }
  }
 },
 "nbformat": 4,
 "nbformat_minor": 5
}
