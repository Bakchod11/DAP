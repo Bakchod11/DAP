{
 "cells": [
  {
   "cell_type": "markdown",
   "id": "a10557af",
   "metadata": {},
   "source": [
    "# Task 1.1"
   ]
  },
  {
   "cell_type": "code",
   "execution_count": 2,
   "id": "0f061cea",
   "metadata": {},
   "outputs": [
    {
     "name": "stdout",
     "output_type": "stream",
     "text": [
      "5\n"
     ]
    }
   ],
   "source": [
    "print(3+2*2**2//3)"
   ]
  },
  {
   "cell_type": "markdown",
   "id": "28bfbd71",
   "metadata": {},
   "source": [
    "# Task 1.2"
   ]
  },
  {
   "cell_type": "code",
   "execution_count": 3,
   "id": "b4187031",
   "metadata": {},
   "outputs": [
    {
     "name": "stdout",
     "output_type": "stream",
     "text": [
      "12\n"
     ]
    }
   ],
   "source": [
    "a = '1'\n",
    "b = '2'\n",
    "print(a+b)"
   ]
  },
  {
   "cell_type": "markdown",
   "id": "2435f3ed",
   "metadata": {},
   "source": [
    "# Task 1.3"
   ]
  },
  {
   "cell_type": "code",
   "execution_count": 4,
   "id": "ed7928e7",
   "metadata": {},
   "outputs": [
    {
     "name": "stdout",
     "output_type": "stream",
     "text": [
      "Hi\n",
      "Mike\n"
     ]
    }
   ],
   "source": [
    "x=1\n",
    "if(x!=1):\n",
    "    print('Hello')\n",
    "else:\n",
    "    print('Hi')\n",
    "print('Mike')\n"
   ]
  },
  {
   "cell_type": "markdown",
   "id": "75286eff",
   "metadata": {},
   "source": [
    "# Task 1.4"
   ]
  },
  {
   "cell_type": "code",
   "execution_count": 1,
   "id": "f5cba8f6",
   "metadata": {},
   "outputs": [
    {
     "name": "stdout",
     "output_type": "stream",
     "text": [
      "1\n",
      "2\n",
      "3\n"
     ]
    }
   ],
   "source": [
    "for n in range(3):\n",
    "    print(n+1)"
   ]
  },
  {
   "cell_type": "markdown",
   "id": "25ce54cd",
   "metadata": {},
   "source": [
    "# Task 1.5"
   ]
  },
  {
   "cell_type": "code",
   "execution_count": 2,
   "id": "1d3a86af",
   "metadata": {},
   "outputs": [
    {
     "name": "stdout",
     "output_type": "stream",
     "text": [
      "-5\n"
     ]
    }
   ],
   "source": [
    "def g(n):\n",
    "    s = 0\n",
    "    for i in range(1,n+1):\n",
    "        if n%i == 0:\n",
    "            s = s + 1\n",
    "    return s\n",
    "\n",
    "print(g(25) - g(24))"
   ]
  },
  {
   "cell_type": "markdown",
   "id": "ce93008b",
   "metadata": {},
   "source": [
    "# Task 2"
   ]
  },
  {
   "cell_type": "code",
   "execution_count": 6,
   "id": "4a7fb55b",
   "metadata": {},
   "outputs": [
    {
     "name": "stdout",
     "output_type": "stream",
     "text": [
      "Reverse of the number is 3222\n"
     ]
    }
   ],
   "source": [
    "#Using string slicing\n",
    "num = int(input(\"Enter the number: \"))\n",
    "print(f\"Reverse of the number is {str(num)[::-1]}\")"
   ]
  },
  {
   "cell_type": "code",
   "execution_count": 5,
   "id": "68788626",
   "metadata": {},
   "outputs": [
    {
     "name": "stdout",
     "output_type": "stream",
     "text": [
      "Reverse of the number is 4321\n"
     ]
    }
   ],
   "source": [
    "#Using while loop\n",
    "num = int(input(\"Enter the number: \"))\n",
    "rev_num = 0\n",
    "while num!=0:\n",
    "    digit = num % 10\n",
    "    rev_num = rev_num * 10 + digit\n",
    "    num //= 10\n",
    "    \n",
    "print(f\"Reverse of the number is {rev_num}\")"
   ]
  },
  {
   "cell_type": "markdown",
   "id": "5d2cf990",
   "metadata": {},
   "source": [
    "# Task 3"
   ]
  },
  {
   "cell_type": "code",
   "execution_count": 7,
   "id": "287cd638",
   "metadata": {},
   "outputs": [
    {
     "name": "stdout",
     "output_type": "stream",
     "text": [
      "Fibonacci series upto 15 terms is: \n",
      "0\n",
      "1\n",
      "1\n",
      "2\n",
      "3\n",
      "5\n",
      "8\n",
      "13\n",
      "21\n",
      "34\n",
      "55\n",
      "89\n",
      "144\n",
      "233\n",
      "377\n"
     ]
    }
   ],
   "source": [
    "#Using while loop\n",
    "def fibo():\n",
    "    nterm = int(input(\"Enter how many terms: \"))\n",
    "    num1 = 0\n",
    "    num2 = 1\n",
    "    count = 0\n",
    "    \n",
    "    if nterm <= 0:\n",
    "        print(\"Please enter valid number.\")\n",
    "    elif nterm == 1:\n",
    "        print(f\"Fibonacci series upto {nterm} terms is: \")\n",
    "        print(n1)\n",
    "    else:\n",
    "        print(f\"Fibonacci series upto {nterm} terms is: \")\n",
    "        while count < nterm:\n",
    "            print(num1)\n",
    "            nth = num1 + num2\n",
    "            num1 = num2\n",
    "            num2 = nth\n",
    "            count += 1\n",
    "\n",
    "fibo()"
   ]
  },
  {
   "cell_type": "markdown",
   "id": "7e827135",
   "metadata": {},
   "source": [
    "# Task 4"
   ]
  },
  {
   "cell_type": "code",
   "execution_count": 10,
   "id": "1b429d58",
   "metadata": {},
   "outputs": [
    {
     "name": "stdout",
     "output_type": "stream",
     "text": [
      "The sum is 25\n"
     ]
    }
   ],
   "source": [
    "def sum_odd():\n",
    "    sum = 0\n",
    "    num = int(input(\"Enter the number: \"))\n",
    "    for i in range(1, num+1, 2):\n",
    "        sum += i\n",
    "    print(f\"The sum is {sum}\")\n",
    "\n",
    "sum_odd()"
   ]
  },
  {
   "cell_type": "markdown",
   "id": "8d3af8cd",
   "metadata": {},
   "source": [
    "# Task 5"
   ]
  },
  {
   "cell_type": "code",
   "execution_count": 29,
   "id": "32e71340",
   "metadata": {},
   "outputs": [
    {
     "name": "stdout",
     "output_type": "stream",
     "text": [
      "Enter the number: 145\n",
      "The 145 is strong number\n"
     ]
    }
   ],
   "source": [
    "def fact(n):\n",
    "    if n == 0 or n == 1:\n",
    "        return 1\n",
    "    else:\n",
    "        return n * fact(n-1)\n",
    "\n",
    "def check_strong_num():\n",
    "    num = int(input(\"Enter the number: \"))\n",
    "    n = num\n",
    "    sum = 0\n",
    "    while n!=0:\n",
    "        digit = n % 10\n",
    "        n //= 10\n",
    "        sum += fact(digit)\n",
    "    if sum == num:\n",
    "        print(f\"The {num} is strong number\")\n",
    "    else:\n",
    "        print(f\"The {num} is not strong number\")        \n",
    "        \n",
    "check_strong_num()"
   ]
  },
  {
   "cell_type": "markdown",
   "id": "067e5a36",
   "metadata": {},
   "source": [
    "# Task 6"
   ]
  },
  {
   "cell_type": "code",
   "execution_count": 30,
   "id": "936ebc6a",
   "metadata": {},
   "outputs": [
    {
     "name": "stdout",
     "output_type": "stream",
     "text": [
      "Enter the value of a: 1\n",
      "Enter the value of b: 5\n",
      "Enter the value of c: 6\n",
      "The roots are real\n",
      "Roots: -2.000 and -3.000\n"
     ]
    }
   ],
   "source": [
    "import math\n",
    "a = float(input(\"Enter the value of a: \"))\n",
    "b = float(input(\"Enter the value of b: \"))\n",
    "c = float(input(\"Enter the value of c: \"))\n",
    "if a == 0 and b == 0:\n",
    "    print(\"Both a and b cannot be zero. No solution.\")\n",
    "    exit()\n",
    "if a == 0:\n",
    "    x = -c / b\n",
    "    print(\"The equation is a linear equation and the root is %.3f\" % x)\n",
    "    exit()\n",
    "D = b ** 2 - 4 * a * c\n",
    "if D < 0:\n",
    "    print(\"The roots are complex conjugate\")\n",
    "    exit()\n",
    "x1 = (-b + math.sqrt(D)) / (2 * a)\n",
    "x2 = (-b - math.sqrt(D)) / (2 * a)\n",
    "print(\"The roots are real\\nRoots: %.3f and %.3f\" % (x1, x2))"
   ]
  },
  {
   "cell_type": "markdown",
   "id": "b1b3b487",
   "metadata": {},
   "source": [
    "# Task 7"
   ]
  },
  {
   "cell_type": "code",
   "execution_count": 32,
   "id": "1256ec37",
   "metadata": {},
   "outputs": [
    {
     "name": "stdout",
     "output_type": "stream",
     "text": [
      "Enter the number of subjects: 3\n",
      "Enter marks for subject 1: 45\n",
      "Enter marks for subject 2: 45\n",
      "Enter marks for subject 3: 45\n",
      "Total:  135\n",
      "Percentage: 45.0\n",
      "Second class\n"
     ]
    }
   ],
   "source": [
    "def calculate_result():\n",
    "    total_marks = 0\n",
    "    total_subjects = int(input(\"Enter the number of subjects: \"))\n",
    "    for i in range(total_subjects):\n",
    "        marks = int(input(f\"Enter marks for subject {i+1}: \"))\n",
    "        if marks >= 0 or marks <= 100:\n",
    "            total_marks = total_marks + marks\n",
    "        else:\n",
    "            print(\"Invalid marks entered. Terminating the code.\")\n",
    "            exit()\n",
    "    percentage = total_marks / (total_subjects * 100) * 100\n",
    "    print(\"Total: \", total_marks)\n",
    "    print(\"Percentage:\", percentage)\n",
    "    if percentage >= 92:\n",
    "        print(\"Merit\")\n",
    "    elif percentage >= 75:\n",
    "        print(\"Distinction\")\n",
    "    elif percentage >= 60:\n",
    "        print(\"First class\")\n",
    "    elif percentage >= 45:\n",
    "        print(\"Second class\")\n",
    "    else:\n",
    "        print(\"Fail\")\n",
    "\n",
    "calculate_result()"
   ]
  },
  {
   "cell_type": "markdown",
   "id": "60ee3ccb",
   "metadata": {},
   "source": [
    "# Task 8"
   ]
  },
  {
   "cell_type": "code",
   "execution_count": 18,
   "id": "938cfc9a",
   "metadata": {},
   "outputs": [
    {
     "name": "stdout",
     "output_type": "stream",
     "text": [
      "              \n"
     ]
    }
   ],
   "source": [
    "n = int(input(\"Enter the number of rows: \"))\n",
    "for i in range(n, 0, -1):\n",
    "    for j in range(n-i):\n",
    "        print(\" \", end=\" \")\n",
    "    for j in range(i, 0, -1):\n",
    "        print(j, end=\" \")\n",
    "    print()"
   ]
  },
  {
   "cell_type": "code",
   "execution_count": null,
   "id": "4bfa8807",
   "metadata": {},
   "outputs": [],
   "source": []
  }
 ],
 "metadata": {
  "kernelspec": {
   "display_name": "Python 3",
   "language": "python",
   "name": "python3"
  },
  "language_info": {
   "codemirror_mode": {
    "name": "ipython",
    "version": 3
   },
   "file_extension": ".py",
   "mimetype": "text/x-python",
   "name": "python",
   "nbconvert_exporter": "python",
   "pygments_lexer": "ipython3",
   "version": "3.8.5"
  },
  "vscode": {
   "interpreter": {
    "hash": "fbe58ca63fe33f9eeae9e71d10368d2b4a57f2b1b395836210cc60d362c66949"
   }
  }
 },
 "nbformat": 4,
 "nbformat_minor": 5
}
