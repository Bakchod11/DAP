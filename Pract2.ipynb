{
 "cells": [
  {
   "cell_type": "markdown",
   "id": "56cf1d14",
   "metadata": {},
   "source": [
    "# Task 1"
   ]
  },
  {
   "cell_type": "code",
   "execution_count": 1,
   "id": "784c3d7c",
   "metadata": {},
   "outputs": [
    {
     "name": "stdout",
     "output_type": "stream",
     "text": [
      "Enter the string: the sun never sets\n",
      "Enter the substring: ever\n",
      "The substring is present in given string\n"
     ]
    }
   ],
   "source": [
    "str = input(\"Enter the string: \")\n",
    "substr = input(\"Enter the substring: \")\n",
    "\n",
    "if(str.find(substr) == -1):\n",
    "    print(\"The substring is not present in given string\")\n",
    "else:\n",
    "    print(\"The substring is present in given string\")"
   ]
  },
  {
   "cell_type": "markdown",
   "id": "3785482f",
   "metadata": {},
   "source": [
    "# Task 2"
   ]
  },
  {
   "cell_type": "code",
   "execution_count": 1,
   "id": "c30b45b1",
   "metadata": {},
   "outputs": [
    {
     "name": "stdout",
     "output_type": "stream",
     "text": [
      "li anmoh\n"
     ]
    }
   ],
   "source": [
    "str = input(\"Enter the string: \")\n",
    "start = str[0]\n",
    "end = str[-1]\n",
    "newStr = end + str[1:-1] + start\n",
    "print(newStr)"
   ]
  },
  {
   "cell_type": "markdown",
   "id": "2b7c3bc1",
   "metadata": {},
   "source": [
    "# Task 3"
   ]
  },
  {
   "cell_type": "code",
   "execution_count": 2,
   "id": "ab8b1e4e",
   "metadata": {},
   "outputs": [
    {
     "name": "stdout",
     "output_type": "stream",
     "text": [
      "The string is palindrome\n"
     ]
    }
   ],
   "source": [
    "def checkPalindrome():\n",
    "    str = input(\"Enter the string: \")\n",
    "    revStr = str[::-1]\n",
    "    if(str == revStr):\n",
    "        print(\"The string is palindrome\")\n",
    "    else:\n",
    "        print(\"The string is not palindrome\")\n",
    "\n",
    "checkPalindrome()"
   ]
  },
  {
   "cell_type": "markdown",
   "id": "8bc747a0",
   "metadata": {},
   "source": [
    "# Task 4"
   ]
  },
  {
   "cell_type": "code",
   "execution_count": 7,
   "id": "30f713dc",
   "metadata": {},
   "outputs": [
    {
     "name": "stdout",
     "output_type": "stream",
     "text": [
      "Enter first string: Hey there\n",
      "Enter second string: God bless YoU\n",
      "HGYU\n"
     ]
    }
   ],
   "source": [
    "str1 = input(\"Enter first string: \")\n",
    "str2 = input(\"Enter second string: \")\n",
    "new_string = str1 + str2\n",
    "result_string = \"\"\n",
    "for char in new_string:\n",
    "    if char.isupper():\n",
    "        result_string += char\n",
    "\n",
    "print(result_string)"
   ]
  },
  {
   "cell_type": "markdown",
   "id": "844154bf",
   "metadata": {},
   "source": [
    "# Task 5"
   ]
  },
  {
   "cell_type": "code",
   "execution_count": 4,
   "id": "8dd58827",
   "metadata": {},
   "outputs": [
    {
     "name": "stdout",
     "output_type": "stream",
     "text": [
      "False\n"
     ]
    }
   ],
   "source": [
    "str1 = input(\"Enter first string: \")\n",
    "str2 = input(\"Enter second string: \")\n",
    "str1_sorted = sorted(str1.lower())\n",
    "str2_sorted = sorted(str2.lower())\n",
    "if str1_sorted == str2_sorted:\n",
    "    print(True)\n",
    "else:\n",
    "    print(False)"
   ]
  },
  {
   "cell_type": "markdown",
   "id": "ca340fb8",
   "metadata": {},
   "source": [
    "# Task 6"
   ]
  },
  {
   "cell_type": "code",
   "execution_count": 10,
   "id": "ab72fb55",
   "metadata": {},
   "outputs": [
    {
     "name": "stdout",
     "output_type": "stream",
     "text": [
      "16.67% of words are more than 6 letters long\n"
     ]
    }
   ],
   "source": [
    "str1 = input(\"Enter words separated by spaces and/or commas:\\n\")\n",
    "words_list = str1.split()\n",
    "long_words = 0\n",
    "total_words = 0\n",
    "for word in words_list:\n",
    "    if len(word) > 6:\n",
    "        long_words += 1\n",
    "    total_words += 1\n",
    "percentage = (long_words/total_words) * 100\n",
    "print(f\"{percentage:.2f}% of words are more than 6 letters long\")"
   ]
  },
  {
   "cell_type": "markdown",
   "id": "8138164b",
   "metadata": {},
   "source": [
    "# Task 7"
   ]
  },
  {
   "cell_type": "code",
   "execution_count": 11,
   "id": "71419960",
   "metadata": {},
   "outputs": [
    {
     "name": "stdout",
     "output_type": "stream",
     "text": [
      "hi ma anmol\n"
     ]
    }
   ],
   "source": [
    "def reverse_string(str):\n",
    "    return str[::-1]\n",
    "\n",
    "def main():\n",
    "    str1 = input(\"Enter your string: \")\n",
    "    words_list = str1.split()\n",
    "    for i in range(len(words_list)):\n",
    "        if i%2 != 0:\n",
    "            words_list[i] = reverse_string(words_list[i])\n",
    "    print(\" \".join(words_list))\n",
    "    \n",
    "main()"
   ]
  },
  {
   "cell_type": "markdown",
   "id": "921cb572",
   "metadata": {},
   "source": [
    "# Task 8"
   ]
  },
  {
   "cell_type": "code",
   "execution_count": 34,
   "id": "a396cdd7",
   "metadata": {},
   "outputs": [
    {
     "name": "stdout",
     "output_type": "stream",
     "text": [
      "Enter a string: hey there\n",
      "Resultant string: heythere\n"
     ]
    }
   ],
   "source": [
    "string = input(\"Enter a string: \")\n",
    "string = ''.join(string.split())\n",
    "print(\"Resultant string:\", string)"
   ]
  },
  {
   "cell_type": "markdown",
   "id": "51b85c5e",
   "metadata": {},
   "source": [
    "# Task 9"
   ]
  },
  {
   "cell_type": "code",
   "execution_count": 36,
   "id": "685918af",
   "metadata": {},
   "outputs": [
    {
     "name": "stdout",
     "output_type": "stream",
     "text": [
      "Enter a string: hey there\n",
      "The char h occurs 2 times\n",
      "The char e occurs 3 times\n",
      "The char y occurs 1 times\n",
      "The char t occurs 1 times\n",
      "The char r occurs 1 times\n"
     ]
    }
   ],
   "source": [
    "stri = input(\"Enter a string: \")\n",
    "stri = \"\".join(stri.split())\n",
    "d = {}\n",
    "for char in stri:\n",
    "    if char in d:\n",
    "        d[char] += 1\n",
    "    else:\n",
    "        d[char] = 1\n",
    "for key,value in d.items():\n",
    "    print(f\"The char {key} occurs {value} times\")\n"
   ]
  },
  {
   "cell_type": "code",
   "execution_count": null,
   "id": "11a096c1",
   "metadata": {},
   "outputs": [],
   "source": []
  }
 ],
 "metadata": {
  "kernelspec": {
   "display_name": "Python 3",
   "language": "python",
   "name": "python3"
  },
  "language_info": {
   "codemirror_mode": {
    "name": "ipython",
    "version": 3
   },
   "file_extension": ".py",
   "mimetype": "text/x-python",
   "name": "python",
   "nbconvert_exporter": "python",
   "pygments_lexer": "ipython3",
   "version": "3.8.5"
  },
  "vscode": {
   "interpreter": {
    "hash": "fbe58ca63fe33f9eeae9e71d10368d2b4a57f2b1b395836210cc60d362c66949"
   }
  }
 },
 "nbformat": 4,
 "nbformat_minor": 5
}
