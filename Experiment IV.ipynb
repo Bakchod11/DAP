{
 "cells": [
  {
   "cell_type": "markdown",
   "id": "80cd810b",
   "metadata": {},
   "source": [
    "## Importing Libraries"
   ]
  },
  {
   "cell_type": "code",
   "execution_count": 40,
   "id": "38189d49",
   "metadata": {},
   "outputs": [],
   "source": [
    "import pandas as pd"
   ]
  },
  {
   "cell_type": "markdown",
   "id": "0ec3d631",
   "metadata": {},
   "source": [
    "## Loading Dataset"
   ]
  },
  {
   "cell_type": "code",
   "execution_count": 41,
   "id": "cf3f1d9d",
   "metadata": {},
   "outputs": [],
   "source": [
    "master_data = pd.read_excel(\"Master_data_excel.xlsx\")\n",
    "cricket_data = pd.read_excel(\"Cricket.xlsx\")\n",
    "hockey_data = pd.read_excel(\"Hockey.xlsx\")\n",
    "volley_data = pd.read_csv(\"Volleyball.csv\")"
   ]
  },
  {
   "cell_type": "code",
   "execution_count": 42,
   "id": "acc1e7c1",
   "metadata": {},
   "outputs": [],
   "source": [
    "master_data_dict = master_data.to_dict()"
   ]
  },
  {
   "cell_type": "code",
   "execution_count": 43,
   "id": "aa7a8da3",
   "metadata": {},
   "outputs": [],
   "source": [
    "# master_data_dict"
   ]
  },
  {
   "cell_type": "code",
   "execution_count": 44,
   "id": "0c6e6cc6",
   "metadata": {},
   "outputs": [],
   "source": [
    "# master_data"
   ]
  },
  {
   "cell_type": "markdown",
   "id": "a1f21650",
   "metadata": {},
   "source": [
    "## Assignment Questions"
   ]
  },
  {
   "cell_type": "markdown",
   "id": "bee49dd7",
   "metadata": {},
   "source": [
    "#### 1.\tPrint master data and data of all the participant separately"
   ]
  },
  {
   "cell_type": "code",
   "execution_count": 45,
   "id": "91443f08",
   "metadata": {},
   "outputs": [
    {
     "name": "stdout",
     "output_type": "stream",
     "text": [
      "A001 HARTEJ SINGH ASSI 23\n",
      "A002 BHAVESH BALDANIYA 35\n",
      "A003 YASH BAVISHI 22\n",
      "A004 SHREEKARA BHAT 34\n",
      "A005 KUNAL BHATT 31\n",
      "A006 DARRYL CARDOZA 26\n",
      "A007 SURESH CHAUDHARY 28\n",
      "A009 CHIRAG CHOUDHARY 40\n",
      "A010 YASH CHOWDHARI 45\n",
      "A011 MIHIR DHANGDHARIYA 33\n"
     ]
    }
   ],
   "source": [
    "for i in range(10):\n",
    "    print(f\"{master_data_dict['ID'][i]} {master_data_dict['NAME'][i]} {master_data_dict['AGE'][i]}\") "
   ]
  },
  {
   "cell_type": "markdown",
   "id": "7a23b720",
   "metadata": {},
   "source": [
    "#### 2.\tWant the list of employees who participated in all the events with complete informaton"
   ]
  },
  {
   "cell_type": "code",
   "execution_count": 46,
   "id": "8434b915",
   "metadata": {},
   "outputs": [],
   "source": [
    "id_cric = set(cricket_data['ID'])\n",
    "id_hockey = set(hockey_data['ID'])\n",
    "id_volley = set(volley_data['ID'])\n",
    "\n",
    "intersect_id = id_cric.intersection(id_hockey, id_volley)"
   ]
  },
  {
   "cell_type": "code",
   "execution_count": 47,
   "id": "1ce486af",
   "metadata": {},
   "outputs": [
    {
     "data": {
      "text/plain": [
       "{'A005',\n",
       " 'A013',\n",
       " 'A018',\n",
       " 'A026',\n",
       " 'A042',\n",
       " 'A045',\n",
       " 'A048',\n",
       " 'A053',\n",
       " 'A057',\n",
       " 'A062',\n",
       " 'A063',\n",
       " 'L011',\n",
       " 'L040',\n",
       " 'L043'}"
      ]
     },
     "execution_count": 47,
     "metadata": {},
     "output_type": "execute_result"
    }
   ],
   "source": [
    "intersect_id"
   ]
  },
  {
   "cell_type": "code",
   "execution_count": 48,
   "id": "02a796e4",
   "metadata": {},
   "outputs": [
    {
     "data": {
      "text/plain": [
       "[      ID         NAME LOCATION        DEPT  AGE\n",
       " 37  A042  PARTH SURVE    Delhi  technology   40,\n",
       "       ID          NAME LOCATION       DEPT  AGE\n",
       " 43  A048  MIHIR SAWANT   Nagpur  marketing   30,\n",
       "       ID         NAME LOCATION        DEPT  AGE\n",
       " 11  A013  ANIKET GAMI   Indore  production   42,\n",
       "       ID           NAME  LOCATION        DEPT  AGE\n",
       " 23  A026  NIDHI MADNANI  Hydrabad  technology   38,\n",
       "       ID             NAME LOCATION       DEPT  AGE\n",
       " 51  A057  MADHURAM SHUKLA   Nagpur  marketing   37,\n",
       "       ID         NAME LOCATION        DEPT  AGE\n",
       " 66  L011  ADITYA JAIN     Pune  production   29,\n",
       "       ID            NAME LOCATION       DEPT  AGE\n",
       " 55  A062  HARSHIT THAPAR   Nagpur  marketing   35,\n",
       "       ID          NAME LOCATION        DEPT  AGE\n",
       " 40  A045  MUDIT POTDAR   Nagpur  technology   37,\n",
       "       ID            NAME LOCATION   DEPT  AGE\n",
       " 47  A053  HUSSAIN SHAIKH   Nagpur  sales   23,\n",
       "       ID          NAME LOCATION   DEPT  AGE\n",
       " 56  A063  ABHAY TIWARI   Mumbai  sales   33,\n",
       "      ID         NAME LOCATION        DEPT  AGE\n",
       " 4  A005  KUNAL BHATT   Mumbai  technology   31,\n",
       "       ID         NAME LOCATION        DEPT  AGE\n",
       " 16  A018  ISHWAR IYER    Delhi  production   29,\n",
       "       ID           NAME LOCATION       DEPT  AGE\n",
       " 86  L040  RITIKA SHETTY   Mumbai  marketing   37,\n",
       "       ID            NAME LOCATION   DEPT  AGE\n",
       " 89  L043  YASH CHAUDHARI   Indore  sales   24]"
      ]
     },
     "execution_count": 48,
     "metadata": {},
     "output_type": "execute_result"
    }
   ],
   "source": [
    "[master_data[master_data['ID'] == id_] for id_ in intersect_id]"
   ]
  },
  {
   "cell_type": "markdown",
   "id": "869faff4",
   "metadata": {},
   "source": [
    "#### 3.\tHow many employees have participated in only one event with name and id?"
   ]
  },
  {
   "cell_type": "code",
   "execution_count": 74,
   "id": "b3b7e065",
   "metadata": {},
   "outputs": [
    {
     "name": "stdout",
     "output_type": "stream",
     "text": [
      "Only for Cricket {'A012', 'A049', 'A034', 'A050', 'A032', 'A033', 'A047', 'L035', 'A037'}\n",
      "Only for Volley {'A067', 'A024', 'A054', 'A028'}\n",
      "Only for Hockey {'A038', 'L016', 'A036', 'A004', 'L039', 'A056', 'A003', 'A014', 'L005', 'L021', 'A025'}\n"
     ]
    }
   ],
   "source": [
    "only_cricket = id_cric - set(list(id_cric.intersection(id_volley)) + list(id_cric.intersection(id_hockey)) + list(intersect_id))\n",
    "only_volley = id_volley - set(list(id_volley.intersection(id_cric)) + list(id_volley.intersection(id_hockey)) + list(intersect_id))\n",
    "only_hockey = id_hockey - set(list(id_hockey.intersection(id_cric)) + list(id_hockey.intersection(id_volley)) + list(intersect_id))\n",
    "\n",
    "print(\"Only for Cricket {}\".format(only_cricket))\n",
    "print(\"Only for Volley {}\".format(only_volley))\n",
    "print(\"Only for Hockey {}\".format(only_hockey))\n"
   ]
  },
  {
   "cell_type": "code",
   "execution_count": 64,
   "id": "fbf2b0dd",
   "metadata": {},
   "outputs": [
    {
     "data": {
      "text/plain": [
       "24"
      ]
     },
     "execution_count": 64,
     "metadata": {},
     "output_type": "execute_result"
    }
   ],
   "source": [
    "len(list(only_cricket) + list(only_hockey) + list(only_volley))"
   ]
  },
  {
   "cell_type": "markdown",
   "id": "32367d45",
   "metadata": {},
   "source": [
    "#### 4. Want to understand most active department in sports"
   ]
  },
  {
   "cell_type": "code",
   "execution_count": 51,
   "id": "3830c814",
   "metadata": {},
   "outputs": [
    {
     "data": {
      "text/plain": [
       "'sales'"
      ]
     },
     "execution_count": 51,
     "metadata": {},
     "output_type": "execute_result"
    }
   ],
   "source": [
    "master_data.loc[max(master_data['DEPT'].value_counts())].DEPT"
   ]
  },
  {
   "cell_type": "markdown",
   "id": "16b280b7",
   "metadata": {},
   "source": [
    "#### 5. \tWant the details of youngest and eldest employee who participated in all the events"
   ]
  },
  {
   "cell_type": "code",
   "execution_count": 52,
   "id": "ac056d25",
   "metadata": {},
   "outputs": [
    {
     "data": {
      "text/html": [
       "<div>\n",
       "<style scoped>\n",
       "    .dataframe tbody tr th:only-of-type {\n",
       "        vertical-align: middle;\n",
       "    }\n",
       "\n",
       "    .dataframe tbody tr th {\n",
       "        vertical-align: top;\n",
       "    }\n",
       "\n",
       "    .dataframe thead th {\n",
       "        text-align: right;\n",
       "    }\n",
       "</style>\n",
       "<table border=\"1\" class=\"dataframe\">\n",
       "  <thead>\n",
       "    <tr style=\"text-align: right;\">\n",
       "      <th></th>\n",
       "      <th>ID</th>\n",
       "      <th>NAME</th>\n",
       "      <th>LOCATION</th>\n",
       "      <th>DEPT</th>\n",
       "      <th>AGE</th>\n",
       "    </tr>\n",
       "  </thead>\n",
       "  <tbody>\n",
       "    <tr>\n",
       "      <th>52</th>\n",
       "      <td>A058</td>\n",
       "      <td>ANMOL SINHA</td>\n",
       "      <td>Delhi</td>\n",
       "      <td>production</td>\n",
       "      <td>49</td>\n",
       "    </tr>\n",
       "    <tr>\n",
       "      <th>60</th>\n",
       "      <td>A067</td>\n",
       "      <td>NIDHI AGRAWAL</td>\n",
       "      <td>Mumbai</td>\n",
       "      <td>marketing</td>\n",
       "      <td>49</td>\n",
       "    </tr>\n",
       "    <tr>\n",
       "      <th>70</th>\n",
       "      <td>L017</td>\n",
       "      <td>SANJANA MEHTA</td>\n",
       "      <td>Indore</td>\n",
       "      <td>technology</td>\n",
       "      <td>49</td>\n",
       "    </tr>\n",
       "    <tr>\n",
       "      <th>78</th>\n",
       "      <td>L029</td>\n",
       "      <td>MAYUR PAWAR</td>\n",
       "      <td>Indore</td>\n",
       "      <td>sales</td>\n",
       "      <td>49</td>\n",
       "    </tr>\n",
       "    <tr>\n",
       "      <th>87</th>\n",
       "      <td>L041</td>\n",
       "      <td>RUSHABH JADHAV</td>\n",
       "      <td>Pune</td>\n",
       "      <td>production</td>\n",
       "      <td>49</td>\n",
       "    </tr>\n",
       "  </tbody>\n",
       "</table>\n",
       "</div>"
      ],
      "text/plain": [
       "      ID            NAME LOCATION        DEPT  AGE\n",
       "52  A058     ANMOL SINHA    Delhi  production   49\n",
       "60  A067   NIDHI AGRAWAL   Mumbai   marketing   49\n",
       "70  L017   SANJANA MEHTA   Indore  technology   49\n",
       "78  L029     MAYUR PAWAR   Indore       sales   49\n",
       "87  L041  RUSHABH JADHAV     Pune  production   49"
      ]
     },
     "execution_count": 52,
     "metadata": {},
     "output_type": "execute_result"
    }
   ],
   "source": [
    "master_data.loc[master_data['AGE'] == max(master_data.AGE)]"
   ]
  },
  {
   "cell_type": "code",
   "execution_count": 53,
   "id": "1d550bb8",
   "metadata": {},
   "outputs": [
    {
     "data": {
      "text/html": [
       "<div>\n",
       "<style scoped>\n",
       "    .dataframe tbody tr th:only-of-type {\n",
       "        vertical-align: middle;\n",
       "    }\n",
       "\n",
       "    .dataframe tbody tr th {\n",
       "        vertical-align: top;\n",
       "    }\n",
       "\n",
       "    .dataframe thead th {\n",
       "        text-align: right;\n",
       "    }\n",
       "</style>\n",
       "<table border=\"1\" class=\"dataframe\">\n",
       "  <thead>\n",
       "    <tr style=\"text-align: right;\">\n",
       "      <th></th>\n",
       "      <th>ID</th>\n",
       "      <th>NAME</th>\n",
       "      <th>LOCATION</th>\n",
       "      <th>DEPT</th>\n",
       "      <th>AGE</th>\n",
       "    </tr>\n",
       "  </thead>\n",
       "  <tbody>\n",
       "    <tr>\n",
       "      <th>2</th>\n",
       "      <td>A003</td>\n",
       "      <td>YASH BAVISHI</td>\n",
       "      <td>Delhi</td>\n",
       "      <td>production</td>\n",
       "      <td>22</td>\n",
       "    </tr>\n",
       "    <tr>\n",
       "      <th>15</th>\n",
       "      <td>A017</td>\n",
       "      <td>AGHA AYAAN HYDER</td>\n",
       "      <td>Pune</td>\n",
       "      <td>production</td>\n",
       "      <td>22</td>\n",
       "    </tr>\n",
       "  </tbody>\n",
       "</table>\n",
       "</div>"
      ],
      "text/plain": [
       "      ID              NAME LOCATION        DEPT  AGE\n",
       "2   A003      YASH BAVISHI    Delhi  production   22\n",
       "15  A017  AGHA AYAAN HYDER     Pune  production   22"
      ]
     },
     "execution_count": 53,
     "metadata": {},
     "output_type": "execute_result"
    }
   ],
   "source": [
    "master_data.loc[master_data['AGE'] == min(master_data.AGE)]"
   ]
  },
  {
   "cell_type": "markdown",
   "id": "e377cd96",
   "metadata": {},
   "source": [
    "#### 6. \tWhich city has maximum participation?  "
   ]
  },
  {
   "cell_type": "code",
   "execution_count": 54,
   "id": "e0f76124",
   "metadata": {},
   "outputs": [
    {
     "data": {
      "text/plain": [
       "'Pune'"
      ]
     },
     "execution_count": 54,
     "metadata": {},
     "output_type": "execute_result"
    }
   ],
   "source": [
    "master_data.loc[max(master_data['LOCATION'].value_counts())].LOCATION"
   ]
  },
  {
   "cell_type": "markdown",
   "id": "cf517e13",
   "metadata": {},
   "source": [
    "#### 7.\tList of employees participated in all events from mumbai"
   ]
  },
  {
   "cell_type": "code",
   "execution_count": 57,
   "id": "0c3764e4",
   "metadata": {},
   "outputs": [],
   "source": [
    "from_mumbai = master_data[master_data.LOCATION == 'Mumbai']\n",
    "mumbai_id = from_mumbai['ID']"
   ]
  },
  {
   "cell_type": "code",
   "execution_count": 58,
   "id": "4dbd1432",
   "metadata": {},
   "outputs": [
    {
     "data": {
      "text/plain": [
       "{'A005', 'A063', 'L040'}"
      ]
     },
     "execution_count": 58,
     "metadata": {},
     "output_type": "execute_result"
    }
   ],
   "source": [
    "participated_in_all = set(mumbai_id).intersection(intersect_id)\n",
    "participated_in_all"
   ]
  },
  {
   "cell_type": "code",
   "execution_count": 59,
   "id": "2520598a",
   "metadata": {},
   "outputs": [
    {
     "data": {
      "text/plain": [
       "[      ID           NAME LOCATION       DEPT  AGE\n",
       " 86  L040  RITIKA SHETTY   Mumbai  marketing   37,\n",
       "       ID          NAME LOCATION   DEPT  AGE\n",
       " 56  A063  ABHAY TIWARI   Mumbai  sales   33,\n",
       "      ID         NAME LOCATION        DEPT  AGE\n",
       " 4  A005  KUNAL BHATT   Mumbai  technology   31]"
      ]
     },
     "execution_count": 59,
     "metadata": {},
     "output_type": "execute_result"
    }
   ],
   "source": [
    "[from_mumbai[from_mumbai['ID'] == id_] for id_ in participated_in_all]"
   ]
  },
  {
   "cell_type": "markdown",
   "id": "d932bb92",
   "metadata": {},
   "source": [
    "#### 8.\tName and Age of all the employees participation in cricket from pune"
   ]
  },
  {
   "cell_type": "code",
   "execution_count": 60,
   "id": "490d7683",
   "metadata": {},
   "outputs": [],
   "source": [
    "from_pune = master_data[master_data['LOCATION'] == 'Pune']\n",
    "pune_id = from_pune['ID']"
   ]
  },
  {
   "cell_type": "code",
   "execution_count": 61,
   "id": "a455db10",
   "metadata": {},
   "outputs": [
    {
     "data": {
      "text/plain": [
       "{'A012', 'A037'}"
      ]
     },
     "execution_count": 61,
     "metadata": {},
     "output_type": "execute_result"
    }
   ],
   "source": [
    "pune_cricket = set(pune_id).intersection(only_cricket)\n",
    "pune_cricket"
   ]
  },
  {
   "cell_type": "code",
   "execution_count": 62,
   "id": "62b2e344",
   "metadata": {},
   "outputs": [
    {
     "data": {
      "text/plain": [
       "[      ID            NAME LOCATION       DEPT  AGE\n",
       " 33  A037  AMEY NIMBALKAR     Pune  marketing   35,\n",
       "       ID          NAME LOCATION       DEPT  AGE\n",
       " 10  A012  SANKET GADGE     Pune  marketing   33]"
      ]
     },
     "execution_count": 62,
     "metadata": {},
     "output_type": "execute_result"
    }
   ],
   "source": [
    "[from_pune[from_pune['ID'] == id_] for id_ in pune_cricket]"
   ]
  },
  {
   "cell_type": "code",
   "execution_count": null,
   "id": "7acd75fd",
   "metadata": {},
   "outputs": [],
   "source": []
  }
 ],
 "metadata": {
  "kernelspec": {
   "display_name": "Python 3",
   "language": "python",
   "name": "python3"
  },
  "language_info": {
   "codemirror_mode": {
    "name": "ipython",
    "version": 3
   },
   "file_extension": ".py",
   "mimetype": "text/x-python",
   "name": "python",
   "nbconvert_exporter": "python",
   "pygments_lexer": "ipython3",
   "version": "3.8.5"
  },
  "vscode": {
   "interpreter": {
    "hash": "fbe58ca63fe33f9eeae9e71d10368d2b4a57f2b1b395836210cc60d362c66949"
   }
  }
 },
 "nbformat": 4,
 "nbformat_minor": 5
}
