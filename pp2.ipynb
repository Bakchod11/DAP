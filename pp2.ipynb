{
 "cells": [
  {
   "attachments": {},
   "cell_type": "markdown",
   "metadata": {},
   "source": [
    "1. write a  code in python and explain to a beginner.Data consist of N groups of 8 numbers. Write a program to print out the numbers of those groups of which the first 4 numbers from either an ascending sequence or a descending sequence."
   ]
  },
  {
   "cell_type": "code",
   "execution_count": 7,
   "metadata": {},
   "outputs": [
    {
     "name": "stdout",
     "output_type": "stream",
     "text": [
      "Group 1: [1, 2, 3, 4, 5, 6, 7, 8]\n",
      "Group 3: [8, 7, 6, 5, 4, 3, 2, 1]\n"
     ]
    }
   ],
   "source": [
    "def is_sequence(group):\n",
    "    # Check if first 4 numbers form either ascending or descending sequence\n",
    "    ascending = group[0] < group[1] < group[2] < group[3]\n",
    "    descending = group[0] > group[1] > group[2] > group[3]\n",
    "    return ascending or descending\n",
    "\n",
    "def print_sequences(data):\n",
    "    # Loop through each group of 8 numbers\n",
    "    for i, group in enumerate(data):\n",
    "        if is_sequence(group):\n",
    "            print(\"Group {}: {}\".format(i + 1, group))\n",
    "\n",
    "# Example data with 3 groups of 8 numbers each\n",
    "data = [\n",
    "    [1, 2, 3, 4, 5, 6, 7, 8],\n",
    "    [4, 3, 6, 5, 8, 7, 2, 1],\n",
    "    [8, 7, 6, 5, 4, 3, 2, 1]\n",
    "]\n",
    "\n",
    "print_sequences(data)\n"
   ]
  },
  {
   "attachments": {},
   "cell_type": "markdown",
   "metadata": {},
   "source": [
    "2. write a  code in python and explain to a beginner.In a dancing competition, points are awarded by each of N judges. The points awarded to a competitor is obtained by ignoring highest and lowest of the N marks and averaging the remainder. Write a program which reads N followed by N points and output the obtained marks. (N should be at least 8)."
   ]
  },
  {
   "cell_type": "code",
   "execution_count": 13,
   "metadata": {},
   "outputs": [
    {
     "name": "stdout",
     "output_type": "stream",
     "text": [
      "The obtained marks are: 4.50\n"
     ]
    }
   ],
   "source": [
    "def average_marks(marks):\n",
    "    # Ignore highest and lowest marks\n",
    "    marks.sort()\n",
    "    total = sum(marks[1:-1])\n",
    "    return total / (len(marks) - 2)\n",
    "\n",
    "n = int(input(\"Enter number of judges: \"))\n",
    "while n < 8:\n",
    "    print(\"Number of judges should be at least 8. Try again.\")\n",
    "    n = int(input(\"Enter number of judges: \"))\n",
    "\n",
    "marks = []\n",
    "for i in range(n):\n",
    "    mark = int(input(\"Enter mark from judge {}: \".format(i + 1)))\n",
    "    marks.append(mark)\n",
    "\n",
    "result = average_marks(marks)\n",
    "print(\"The obtained marks are: {:.2f}\".format(result))\n"
   ]
  },
  {
   "attachments": {},
   "cell_type": "markdown",
   "metadata": {},
   "source": [
    "3. write a  code in python and explain to a beginner.Write a program which finds all the prime numbers between 1 and 1000"
   ]
  },
  {
   "cell_type": "code",
   "execution_count": 14,
   "metadata": {},
   "outputs": [
    {
     "name": "stdout",
     "output_type": "stream",
     "text": [
      "Prime numbers between 1 and 1000:\n",
      "2\n",
      "3\n",
      "5\n",
      "7\n",
      "11\n",
      "13\n",
      "17\n",
      "19\n",
      "23\n",
      "29\n",
      "31\n",
      "37\n",
      "41\n",
      "43\n",
      "47\n",
      "53\n",
      "59\n",
      "61\n",
      "67\n",
      "71\n",
      "73\n",
      "79\n",
      "83\n",
      "89\n",
      "97\n",
      "101\n",
      "103\n",
      "107\n",
      "109\n",
      "113\n",
      "127\n",
      "131\n",
      "137\n",
      "139\n",
      "149\n",
      "151\n",
      "157\n",
      "163\n",
      "167\n",
      "173\n",
      "179\n",
      "181\n",
      "191\n",
      "193\n",
      "197\n",
      "199\n",
      "211\n",
      "223\n",
      "227\n",
      "229\n",
      "233\n",
      "239\n",
      "241\n",
      "251\n",
      "257\n",
      "263\n",
      "269\n",
      "271\n",
      "277\n",
      "281\n",
      "283\n",
      "293\n",
      "307\n",
      "311\n",
      "313\n",
      "317\n",
      "331\n",
      "337\n",
      "347\n",
      "349\n",
      "353\n",
      "359\n",
      "367\n",
      "373\n",
      "379\n",
      "383\n",
      "389\n",
      "397\n",
      "401\n",
      "409\n",
      "419\n",
      "421\n",
      "431\n",
      "433\n",
      "439\n",
      "443\n",
      "449\n",
      "457\n",
      "461\n",
      "463\n",
      "467\n",
      "479\n",
      "487\n",
      "491\n",
      "499\n",
      "503\n",
      "509\n",
      "521\n",
      "523\n",
      "541\n",
      "547\n",
      "557\n",
      "563\n",
      "569\n",
      "571\n",
      "577\n",
      "587\n",
      "593\n",
      "599\n",
      "601\n",
      "607\n",
      "613\n",
      "617\n",
      "619\n",
      "631\n",
      "641\n",
      "643\n",
      "647\n",
      "653\n",
      "659\n",
      "661\n",
      "673\n",
      "677\n",
      "683\n",
      "691\n",
      "701\n",
      "709\n",
      "719\n",
      "727\n",
      "733\n",
      "739\n",
      "743\n",
      "751\n",
      "757\n",
      "761\n",
      "769\n",
      "773\n",
      "787\n",
      "797\n",
      "809\n",
      "811\n",
      "821\n",
      "823\n",
      "827\n",
      "829\n",
      "839\n",
      "853\n",
      "857\n",
      "859\n",
      "863\n",
      "877\n",
      "881\n",
      "883\n",
      "887\n",
      "907\n",
      "911\n",
      "919\n",
      "929\n",
      "937\n",
      "941\n",
      "947\n",
      "953\n",
      "967\n",
      "971\n",
      "977\n",
      "983\n",
      "991\n",
      "997\n"
     ]
    }
   ],
   "source": [
    "def is_prime(n):\n",
    "    if n <= 1:\n",
    "        return False\n",
    "    for i in range(2, int(n**0.5)+1):\n",
    "        if n % i == 0:\n",
    "            return False\n",
    "    return True\n",
    "\n",
    "print(\"Prime numbers between 1 and 1000:\")\n",
    "for n in range(1, 1001):\n",
    "    if is_prime(n):\n",
    "        print(n)\n"
   ]
  },
  {
   "attachments": {},
   "cell_type": "markdown",
   "metadata": {},
   "source": [
    "4.\tWrite a program which reads positive integer N and prints the first N Fibonacci numbers."
   ]
  },
  {
   "cell_type": "code",
   "execution_count": 15,
   "metadata": {},
   "outputs": [
    {
     "name": "stdout",
     "output_type": "stream",
     "text": [
      "The first 5 Fibonacci numbers are: [1, 1, 2, 3, 5]\n"
     ]
    }
   ],
   "source": [
    "def fibonacci(n):\n",
    "    a, b = 0, 1\n",
    "    result = []\n",
    "    for i in range(n):\n",
    "        result.append(b)\n",
    "        a, b = b, a + b\n",
    "    return result\n",
    "\n",
    "n = int(input(\"Enter number of Fibonacci numbers: \"))\n",
    "while n <= 0:\n",
    "    print(\"Number of Fibonacci numbers should be positive. Try again.\")\n",
    "    n = int(input(\"Enter number of Fibonacci numbers: \"))\n",
    "\n",
    "fib = fibonacci(n)\n",
    "print(\"The first {} Fibonacci numbers are: {}\".format(n, fib))\n"
   ]
  },
  {
   "attachments": {},
   "cell_type": "markdown",
   "metadata": {},
   "source": [
    "5.\tWrite a program which finds a four digit number (AABB) which is a perfect square. A and B represent different digits."
   ]
  },
  {
   "cell_type": "code",
   "execution_count": 16,
   "metadata": {},
   "outputs": [
    {
     "name": "stdout",
     "output_type": "stream",
     "text": [
      "The four digit number 1024 is a perfect square.\n",
      "The four digit number 1089 is a perfect square.\n",
      "The four digit number 1225 is a perfect square.\n",
      "The four digit number 1296 is a perfect square.\n",
      "The four digit number 1369 is a perfect square.\n",
      "The four digit number 1444 is a perfect square.\n",
      "The four digit number 1521 is a perfect square.\n",
      "The four digit number 1600 is a perfect square.\n",
      "The four digit number 1681 is a perfect square.\n",
      "The four digit number 1764 is a perfect square.\n",
      "The four digit number 1849 is a perfect square.\n",
      "The four digit number 1936 is a perfect square.\n",
      "The four digit number 2025 is a perfect square.\n",
      "The four digit number 2116 is a perfect square.\n",
      "The four digit number 2304 is a perfect square.\n",
      "The four digit number 2401 is a perfect square.\n",
      "The four digit number 2500 is a perfect square.\n",
      "The four digit number 2601 is a perfect square.\n",
      "The four digit number 2704 is a perfect square.\n",
      "The four digit number 2809 is a perfect square.\n",
      "The four digit number 2916 is a perfect square.\n",
      "The four digit number 3025 is a perfect square.\n",
      "The four digit number 3136 is a perfect square.\n",
      "The four digit number 3249 is a perfect square.\n",
      "The four digit number 3481 is a perfect square.\n",
      "The four digit number 3600 is a perfect square.\n",
      "The four digit number 3721 is a perfect square.\n",
      "The four digit number 3844 is a perfect square.\n",
      "The four digit number 3969 is a perfect square.\n",
      "The four digit number 4096 is a perfect square.\n",
      "The four digit number 4225 is a perfect square.\n",
      "The four digit number 4356 is a perfect square.\n",
      "The four digit number 4624 is a perfect square.\n",
      "The four digit number 4761 is a perfect square.\n",
      "The four digit number 4900 is a perfect square.\n",
      "The four digit number 5041 is a perfect square.\n",
      "The four digit number 5184 is a perfect square.\n",
      "The four digit number 5329 is a perfect square.\n",
      "The four digit number 5476 is a perfect square.\n",
      "The four digit number 5625 is a perfect square.\n",
      "The four digit number 5776 is a perfect square.\n",
      "The four digit number 5929 is a perfect square.\n",
      "The four digit number 6084 is a perfect square.\n",
      "The four digit number 6241 is a perfect square.\n",
      "The four digit number 6400 is a perfect square.\n",
      "The four digit number 6561 is a perfect square.\n",
      "The four digit number 6724 is a perfect square.\n",
      "The four digit number 6889 is a perfect square.\n",
      "The four digit number 7056 is a perfect square.\n",
      "The four digit number 7225 is a perfect square.\n",
      "The four digit number 7396 is a perfect square.\n",
      "The four digit number 7569 is a perfect square.\n",
      "The four digit number 7921 is a perfect square.\n",
      "The four digit number 8100 is a perfect square.\n",
      "The four digit number 8281 is a perfect square.\n",
      "The four digit number 8464 is a perfect square.\n",
      "The four digit number 8649 is a perfect square.\n",
      "The four digit number 9025 is a perfect square.\n",
      "The four digit number 9216 is a perfect square.\n",
      "The four digit number 9409 is a perfect square.\n",
      "The four digit number 9604 is a perfect square.\n",
      "The four digit number 9801 is a perfect square.\n"
     ]
    }
   ],
   "source": [
    "import math\n",
    "\n",
    "def is_perfect_square(num):\n",
    "    sqrt = int(math.sqrt(num))\n",
    "    return sqrt * sqrt == num\n",
    "\n",
    "for num in range(1000, 10000):\n",
    "    if is_perfect_square(num) and (num // 100) % 11 != 0:\n",
    "        print(\"The four digit number {} is a perfect square.\".format(num))\n"
   ]
  },
  {
   "attachments": {},
   "cell_type": "markdown",
   "metadata": {},
   "source": [
    "6.\tWrite a program which finds a four digit perfect square where the number represented by the first two digits and the number represented by the last two digits are both perfect square."
   ]
  },
  {
   "cell_type": "code",
   "execution_count": 26,
   "metadata": {},
   "outputs": [
    {
     "name": "stdout",
     "output_type": "stream",
     "text": [
      "2401\n"
     ]
    }
   ],
   "source": [
    "import math\n",
    "\n",
    "for i in range(32, 100):\n",
    "    first_two = i ** 2\n",
    "    if first_two >= 1000:\n",
    "        last_two = first_two % 100\n",
    "        if int(math.sqrt(last_two)) ** 2 == last_two and int(math.sqrt(i)) ** 2 == i:\n",
    "            print(first_two)\n"
   ]
  },
  {
   "attachments": {},
   "cell_type": "markdown",
   "metadata": {},
   "source": [
    "7.\tWrite a program which reads in a time (t) being the earliest time at which a passenger can arrive at his departure railway station and a number (m) being the lowest journey time in hours that he is prepared to tolerate. The program then reads N followed by N pairs of numbers being the departure and arrival times of N trains to the passenger’s destination. Print out the departure time of his most suitable train (that arriving earliest at his destination)."
   ]
  },
  {
   "cell_type": "code",
   "execution_count": 55,
   "metadata": {},
   "outputs": [
    {
     "name": "stdout",
     "output_type": "stream",
     "text": [
      "No suitable trains available\n"
     ]
    }
   ],
   "source": [
    "def main():\n",
    "    t = int(input(\"Enter earliest arrival time: \"))\n",
    "    m = int(input(\"Enter lowest journey time in hours: \"))\n",
    "    n = int(input(\"Enter the number of trains: \"))\n",
    "\n",
    "    suitable_trains = []\n",
    "    for i in range(n):\n",
    "        departure, arrival = map(int, input(\"Enter departure and arrival times: \").split())\n",
    "        journey_time = arrival - departure\n",
    "        if journey_time >= m and departure >= t:\n",
    "            suitable_trains.append((departure, arrival))\n",
    "    \n",
    "    if suitable_trains:\n",
    "        suitable_trains.sort(key=lambda x: x[1])\n",
    "        print(\"Most suitable train departure time:\", suitable_trains[0][0])\n",
    "    else:\n",
    "        print(\"No suitable trains available\")\n",
    "\n",
    "if __name__ == \"__main__\":\n",
    "    main()\n"
   ]
  },
  {
   "attachments": {},
   "cell_type": "markdown",
   "metadata": {},
   "source": [
    "8.\tThere are 8 questions in an examination paper. Write a program which inputs the marks awarded for each question (-1 indicate that the question was not attempted) and checks that the candidate attempt no more than 5 question, at least two from each half of the paper. If this condition is satisfied, the program should print the total number of marks otherwise it should print a suitable warning message. "
   ]
  },
  {
   "cell_type": "code",
   "execution_count": 35,
   "metadata": {},
   "outputs": [
    {
     "name": "stdout",
     "output_type": "stream",
     "text": [
      "Total marks: 16\n"
     ]
    }
   ],
   "source": [
    "def check_attempts(marks):\n",
    "    attempts = 0\n",
    "    first_half = 0\n",
    "    second_half = 0\n",
    "    for i in range(len(marks)):\n",
    "        if marks[i] != -1:\n",
    "            attempts += 1\n",
    "            if i < 4:\n",
    "                first_half += 1\n",
    "            else:\n",
    "                second_half += 1\n",
    "    return attempts <= 5 and first_half >= 2 and second_half >= 2\n",
    "\n",
    "def main():\n",
    "    marks = [int(input(f\"Enter marks for question {i + 1}: \")) for i in range(8)]\n",
    "    if check_attempts(marks):\n",
    "        total = sum([mark for mark in marks if mark != -1])\n",
    "        print(f\"Total marks: {total}\")\n",
    "    else:\n",
    "        print(\"Warning: invalid number of attempts or not enough attempts from both halves of the paper.\")\n",
    "\n",
    "if __name__ == \"__main__\":\n",
    "    main()\n"
   ]
  },
  {
   "attachments": {},
   "cell_type": "markdown",
   "metadata": {},
   "source": [
    "9.\tInput will consist of the number of words separated by spaces and possibly commas. There will be a full stop to determine (and print) what percentage the words are more than 6 letters long. (Use pointers to access the string)"
   ]
  },
  {
   "cell_type": "code",
   "execution_count": 40,
   "metadata": {},
   "outputs": [
    {
     "name": "stdout",
     "output_type": "stream",
     "text": [
      "Percentage of words more than 6 letters long: 0.00%\n"
     ]
    }
   ],
   "source": [
    "def main():\n",
    "    text = input(\"Enter text: \")\n",
    "    words = text.split()\n",
    "    num_words = len(words)\n",
    "    num_long_words = 0\n",
    "    for word in words:\n",
    "        if len(word) > 6:\n",
    "            num_long_words += 1\n",
    "    percent_long_words = (num_long_words / num_words) * 100\n",
    "    print(\"Percentage of words more than 6 letters long: {:.2f}%\".format(percent_long_words))\n",
    "\n",
    "if __name__ == \"__main__\":\n",
    "    main()\n"
   ]
  },
  {
   "attachments": {},
   "cell_type": "markdown",
   "metadata": {},
   "source": [
    "10.\tGenerate the first 100 Fibonacci numbers but print out only every 3rd one thus 2, 8, ……"
   ]
  },
  {
   "cell_type": "code",
   "execution_count": 56,
   "metadata": {},
   "outputs": [
    {
     "name": "stdout",
     "output_type": "stream",
     "text": [
      "2\n",
      "2\n",
      "8\n",
      "34\n",
      "144\n",
      "610\n",
      "2584\n",
      "10946\n",
      "46368\n",
      "196418\n",
      "832040\n",
      "3524578\n",
      "14930352\n",
      "63245986\n",
      "267914296\n",
      "1134903170\n"
     ]
    },
    {
     "ename": "KeyboardInterrupt",
     "evalue": "",
     "output_type": "error",
     "traceback": [
      "\u001b[1;31m---------------------------------------------------------------------------\u001b[0m",
      "\u001b[1;31mKeyboardInterrupt\u001b[0m                         Traceback (most recent call last)",
      "Cell \u001b[1;32mIn[56], line 11\u001b[0m\n\u001b[0;32m      9\u001b[0m \u001b[39mprint\u001b[39m(\u001b[39m2\u001b[39m)\n\u001b[0;32m     10\u001b[0m \u001b[39mfor\u001b[39;00m i \u001b[39min\u001b[39;00m \u001b[39mrange\u001b[39m(\u001b[39m3\u001b[39m, \u001b[39m103\u001b[39m, \u001b[39m3\u001b[39m):\n\u001b[1;32m---> 11\u001b[0m     \u001b[39mprint\u001b[39m(fibonacci(i))\n",
      "Cell \u001b[1;32mIn[56], line 7\u001b[0m, in \u001b[0;36mfibonacci\u001b[1;34m(n)\u001b[0m\n\u001b[0;32m      5\u001b[0m     \u001b[39mreturn\u001b[39;00m \u001b[39m1\u001b[39m\n\u001b[0;32m      6\u001b[0m \u001b[39melse\u001b[39;00m:\n\u001b[1;32m----> 7\u001b[0m     \u001b[39mreturn\u001b[39;00m fibonacci(n\u001b[39m-\u001b[39;49m\u001b[39m1\u001b[39;49m) \u001b[39m+\u001b[39m fibonacci(n\u001b[39m-\u001b[39m\u001b[39m2\u001b[39m)\n",
      "Cell \u001b[1;32mIn[56], line 7\u001b[0m, in \u001b[0;36mfibonacci\u001b[1;34m(n)\u001b[0m\n\u001b[0;32m      5\u001b[0m     \u001b[39mreturn\u001b[39;00m \u001b[39m1\u001b[39m\n\u001b[0;32m      6\u001b[0m \u001b[39melse\u001b[39;00m:\n\u001b[1;32m----> 7\u001b[0m     \u001b[39mreturn\u001b[39;00m fibonacci(n\u001b[39m-\u001b[39;49m\u001b[39m1\u001b[39;49m) \u001b[39m+\u001b[39m fibonacci(n\u001b[39m-\u001b[39m\u001b[39m2\u001b[39m)\n",
      "    \u001b[1;31m[... skipping similar frames: fibonacci at line 7 (32 times)]\u001b[0m\n",
      "Cell \u001b[1;32mIn[56], line 7\u001b[0m, in \u001b[0;36mfibonacci\u001b[1;34m(n)\u001b[0m\n\u001b[0;32m      5\u001b[0m     \u001b[39mreturn\u001b[39;00m \u001b[39m1\u001b[39m\n\u001b[0;32m      6\u001b[0m \u001b[39melse\u001b[39;00m:\n\u001b[1;32m----> 7\u001b[0m     \u001b[39mreturn\u001b[39;00m fibonacci(n\u001b[39m-\u001b[39;49m\u001b[39m1\u001b[39;49m) \u001b[39m+\u001b[39m fibonacci(n\u001b[39m-\u001b[39m\u001b[39m2\u001b[39m)\n",
      "Cell \u001b[1;32mIn[56], line 1\u001b[0m, in \u001b[0;36mfibonacci\u001b[1;34m(n)\u001b[0m\n\u001b[1;32m----> 1\u001b[0m \u001b[39mdef\u001b[39;00m \u001b[39mfibonacci\u001b[39m(n):\n\u001b[0;32m      2\u001b[0m     \u001b[39mif\u001b[39;00m n \u001b[39m==\u001b[39m \u001b[39m0\u001b[39m:\n\u001b[0;32m      3\u001b[0m         \u001b[39mreturn\u001b[39;00m \u001b[39m0\u001b[39m\n",
      "\u001b[1;31mKeyboardInterrupt\u001b[0m: "
     ]
    }
   ],
   "source": [
    "def fibonacci(n):\n",
    "    if n == 0:\n",
    "        return 0\n",
    "    elif n == 1:\n",
    "        return 1\n",
    "    else:\n",
    "        return fibonacci(n-1) + fibonacci(n-2)\n",
    "\n",
    "print(2)\n",
    "for i in range(3, 103, 3):\n",
    "    print(fibonacci(i))\n"
   ]
  },
  {
   "attachments": {},
   "cell_type": "markdown",
   "metadata": {},
   "source": [
    "11. Modify the program so that it only prints every Kth Fibonacci number."
   ]
  },
  {
   "cell_type": "code",
   "execution_count": null,
   "metadata": {},
   "outputs": [],
   "source": [
    "def fibonacci_kth(n, k):\n",
    "    a, b = 0, 1\n",
    "    result = []\n",
    "    for i in range(n):\n",
    "        if (i+1) % k == 0:\n",
    "            result.append(b)\n",
    "        a, b = b, a + b\n",
    "    return result\n",
    "\n",
    "n = int(input(\"Enter the number of Fibonacci numbers to generate: \"))\n",
    "k = int(input(\"Enter the value of K: \"))\n",
    "print(\"Every Kth Fibonacci number: \", fibonacci_kth(n, k))"
   ]
  },
  {
   "attachments": {},
   "cell_type": "markdown",
   "metadata": {},
   "source": [
    "12. Data is N followed by N scores if a batsman during a cricket season. The score for a completed innings is represented by the number of runs (<999), a “not out” score of n runs is represented by an integer 1000+n.\n",
    "a.\tWrite a python program which produce a summary of the batsman’s performance under the headings Innings\t\tNot out\t\tRuns\t\tAverage\n",
    "b.\tExtend your program so that it also output the highest score made during the season (followed by * if this was not out)."
   ]
  },
  {
   "cell_type": "code",
   "execution_count": null,
   "metadata": {},
   "outputs": [],
   "source": [
    "def cricket_performance(scores):\n",
    "    innings = 0\n",
    "    not_out = 0\n",
    "    runs = 0\n",
    "    highest_score = 0\n",
    "\n",
    "    for score in scores:\n",
    "        innings += 1\n",
    "        if score >= 1000:\n",
    "            not_out += 1\n",
    "            score = score - 1000\n",
    "        runs += score\n",
    "        if score > highest_score:\n",
    "            highest_score = score\n",
    "\n",
    "    average = runs / (innings - not_out) if innings - not_out != 0 else 0\n",
    "    print(\"Innings: \", innings)\n",
    "    print(\"Not out: \", not_out)\n",
    "    print(\"Runs: \", runs)\n",
    "    print(\"Average: \", average)\n",
    "    print(\"Highest Score: \", highest_score, \"*\" if highest_score in scores else \"\")\n",
    "\n",
    "n = int(input(\"Enter the number of innings: \"))\n",
    "scores = []\n",
    "for i in range(n):\n",
    "    scores.append(int(input(\"Enter score for innings {}: \".format(i+1))))\n",
    "cricket_performance(scores)"
   ]
  },
  {
   "attachments": {},
   "cell_type": "markdown",
   "metadata": {},
   "source": [
    "13. Input consists of 31 real numbers giving rainfall figures for a month, (assume month is starting from Monday). Print the position of driest individual day and the wettest week starting from Monday. (for example output could be : Day 22 and Week 1)"
   ]
  },
  {
   "cell_type": "code",
   "execution_count": null,
   "metadata": {},
   "outputs": [],
   "source": [
    "def rainfall(rain_data):\n",
    "    min_rain = float(\"inf\")\n",
    "    max_rain = float(\"-inf\")\n",
    "    min_day = 0\n",
    "    max_week = 0\n",
    "    current_week = 0\n",
    "    current_sum = 0\n",
    "\n",
    "    for i, rain in enumerate(rain_data):\n",
    "        if rain < min_rain:\n",
    "            min_rain = rain\n",
    "            min_day = i + 1\n",
    "        current_sum += rain\n",
    "        if (i + 1) % 7 == 0:\n",
    "            if current_sum > max_rain:\n",
    "                max_rain = current_sum\n",
    "                max_week = (i + 1) // 7 + 1\n",
    "            current_sum = 0\n",
    "\n",
    "    print(\"Driest Day: Day\", min_day)\n",
    "    print(\"Wettest Week: Week\", max_week)\n",
    "\n",
    "rain_data = []\n",
    "for i in range(31):\n",
    "    rain_data.append(float(input(\"Enter rainfall for day {}: \".format(i + 1))))\n",
    "rainfall(rain_data)"
   ]
  },
  {
   "attachments": {},
   "cell_type": "markdown",
   "metadata": {},
   "source": [
    "14.\tThe integer 145 has curious property that145 = 1! + 4! + 5!\n",
    "It is possible to prove mathematically that there are no number greater than 2000000 with this property. There is one number other than 1, 2 and 145 which has it. Write a program which find this number.\n"
   ]
  },
  {
   "cell_type": "code",
   "execution_count": null,
   "metadata": {},
   "outputs": [],
   "source": [
    "from math import factorial\n",
    "\n",
    "def curious_number(n):\n",
    "    result = 0\n",
    "    for i in str(n):\n",
    "        result += factorial(int(i))\n",
    "        if result > n:\n",
    "            return False\n",
    "    return result == n\n",
    "\n",
    "def find_curious_number():\n",
    "    for i in range(3, 2000001):\n",
    "        if i == 145:\n",
    "            continue\n",
    "        if curious_number(i):\n",
    "            return i\n",
    "    return -1\n",
    "\n",
    "print(\"The curious number is:\", find_curious_number())"
   ]
  },
  {
   "attachments": {},
   "cell_type": "markdown",
   "metadata": {},
   "source": [
    "15.\tWrite a program which given the day of the week on which the first of the month falls, together with the number of days in the month, print out a calendar for the month in the following form:\n",
    "\n",
    "Mon\t\t6\t13\t2 0\t27\n",
    "Tue\t\t7\t14\t21\t28\n",
    "Wed\t1\t8\t15\t22\t29\n",
    "Thu\t2\t9\t16\t23\t30\n",
    "Fri\t3\t10\t17\t24\t31\n",
    "Sat\t4\t11\t18\t25\n",
    "Sun\t5\t12\t19\t26\n"
   ]
  },
  {
   "cell_type": "code",
   "execution_count": null,
   "metadata": {},
   "outputs": [],
   "source": [
    "days_of_week = ['Mon', 'Tue', 'Wed', 'Thu', 'Fri', 'Sat', 'Sun']\n",
    "\n",
    "def print_calendar(first_day_of_month, num_days):\n",
    "    current_day = first_day_of_month\n",
    "    for i in range(7):\n",
    "        print(f'{days_of_week[i]}\\t', end='')\n",
    "        for j in range(1, num_days + 1):\n",
    "            if (j - 1 + current_day) % 7 == i:\n",
    "                print(f'{j}\\t', end='')\n",
    "        print('')\n",
    "\n",
    "first_day_of_month = int(input(\"Enter the day of the week (0-6) for the first day of the month: \"))\n",
    "num_days = int(input(\"Enter the number of days in the month: \"))\n",
    "\n",
    "print_calendar(first_day_of_month, num_days)\n",
    "\n"
   ]
  },
  {
   "attachments": {},
   "cell_type": "markdown",
   "metadata": {},
   "source": [
    "16. Write a program which reads N followed by details of N students – Roll number and examination marks, output should be a list of the names of those students whose mark is above the average.\n"
   ]
  },
  {
   "cell_type": "code",
   "execution_count": null,
   "metadata": {},
   "outputs": [],
   "source": [
    "def get_average(marks):\n",
    "    return sum(marks) / len(marks)\n",
    "\n",
    "def get_above_average_students(students, average):\n",
    "    above_average_students = []\n",
    "    for student in students:\n",
    "        if student[1] > average:\n",
    "            above_average_students.append(student[0])\n",
    "    return above_average_students\n",
    "\n",
    "n = int(input(\"Enter the number of students: \"))\n",
    "students = []\n",
    "for i in range(n):\n",
    "    roll_number = input(\"Enter the roll number: \")\n",
    "    marks = int(input(\"Enter the marks: \"))\n",
    "    students.append((roll_number, marks))\n",
    "\n",
    "average = get_average([student[1] for student in students])\n",
    "above_average_students = get_above_average_students(students, average)\n",
    "\n",
    "print(\"Students with marks above the average:\")\n",
    "for student in above_average_students:\n",
    "    print(student)"
   ]
  },
  {
   "attachments": {},
   "cell_type": "markdown",
   "metadata": {},
   "source": [
    "17.\tWrite a program which reads a positive integer N followed by a piece of text which is terminated by +. Your program should output the text exactly as read except that every N-letter word is replaced by N. (You can use pointers to access the string characters)"
   ]
  },
  {
   "cell_type": "code",
   "execution_count": null,
   "metadata": {},
   "outputs": [],
   "source": [
    "def replace_words(text, n):\n",
    "    words = text.split()\n",
    "    result = []\n",
    "    for word in words:\n",
    "        if len(word) == n:\n",
    "            result.append(str(n))\n",
    "        else:\n",
    "            result.append(word)\n",
    "    return \" \".join(result)\n",
    "\n",
    "text = input().strip()\n",
    "n = int(input().strip())\n",
    "\n",
    "print(replace_words(text, n))"
   ]
  },
  {
   "attachments": {},
   "cell_type": "markdown",
   "metadata": {},
   "source": [
    "18.\tIn a certain university, students are classified according to the range into which their final mark falls. The ranges are 0-25, 26-50, 51-75 and 76-100.\n",
    "Write a program that reads N and followed by marks of N students. Output the number that fall into each range.\n"
   ]
  },
  {
   "cell_type": "code",
   "execution_count": null,
   "metadata": {},
   "outputs": [],
   "source": [
    "def classify_marks(marks, ranges):\n",
    "    result = [0] * len(ranges)\n",
    "    for mark in marks:\n",
    "        for i, (lower, upper) in enumerate(ranges):\n",
    "            if lower <= mark <= upper:\n",
    "                result[i] += 1\n",
    "                break\n",
    "    return result\n",
    "\n",
    "n = int(input().strip())\n",
    "marks = [int(input().strip()) for i in range(n)]\n",
    "ranges = [(0, 25), (26, 50), (51, 75), (76, 100)]\n",
    "\n",
    "counts = classify_marks(marks, ranges)\n",
    "for i, (lower, upper) in enumerate(ranges):\n",
    "    print(f\"Marks in range {lower}-{upper}: {counts[i]}\")"
   ]
  },
  {
   "attachments": {},
   "cell_type": "markdown",
   "metadata": {},
   "source": [
    "19.\tRead in a sentence composed of words separated by at least one space, and print them out again with only one space between each word and every second word reversed. The sentence on input and output is to be concluded with full stop. Thus sample output might be:\n",
    "This si an elpmaxe of tahw is tnaem.\n"
   ]
  },
  {
   "cell_type": "code",
   "execution_count": 57,
   "metadata": {},
   "outputs": [
    {
     "name": "stdout",
     "output_type": "stream",
     "text": [
      "anmol si a yob ohh.\n"
     ]
    }
   ],
   "source": [
    "sentence = input(\"Enter a sentence: \")\n",
    "words = sentence.split()\n",
    "result = []\n",
    "\n",
    "for i, word in enumerate(words):\n",
    "    if i % 2 == 1:\n",
    "        result.append(word[::-1])\n",
    "    else:\n",
    "        result.append(word)\n",
    "\n",
    "print(\" \".join(result) + \".\")\n"
   ]
  },
  {
   "attachments": {},
   "cell_type": "markdown",
   "metadata": {},
   "source": [
    "20.\tWrite a program to print a histogram of the frequencies (number of occurrence of each individual letter in the sentence) of different characters in its input.  (input would be string)."
   ]
  },
  {
   "cell_type": "code",
   "execution_count": 61,
   "metadata": {},
   "outputs": [
    {
     "name": "stdout",
     "output_type": "stream",
     "text": [
      "a: **\n",
      "n: **\n",
      "m: *\n",
      "o: *\n",
      "l: *\n",
      " : **\n",
      "i: **\n",
      "s: **\n",
      "h: *\n"
     ]
    }
   ],
   "source": [
    "sentence = input(\"Enter a sentence: \")\n",
    "\n",
    "char_frequency = {}\n",
    "\n",
    "for char in sentence:\n",
    "    if char in char_frequency:\n",
    "        char_frequency[char] += 1\n",
    "    else:\n",
    "        char_frequency[char] = 1\n",
    "\n",
    "for char, frequency in char_frequency.items():\n",
    "    print(char + \": \" + \"*\" * frequency)\n"
   ]
  },
  {
   "attachments": {},
   "cell_type": "markdown",
   "metadata": {},
   "source": [
    "21.\tWrite a program which reads a text terminated by ‘\\0’ character. The text may include any character. Your program is to calculate the frequency of each individual letters and of each pairs of adjacent letters as a percentage of the total number of letters and of the total number of pairs respectively. Print the individual letter frequencies and the three most common pairs."
   ]
  },
  {
   "cell_type": "code",
   "execution_count": 42,
   "metadata": {},
   "outputs": [
    {
     "name": "stdout",
     "output_type": "stream",
     "text": [
      "Individual letter frequencies:\n",
      "a: 18.18%\n",
      "n: 9.09%\n",
      "m: 9.09%\n",
      "o: 18.18%\n",
      "l: 9.09%\n",
      "i: 9.09%\n",
      "s: 9.09%\n",
      "b: 9.09%\n",
      "y: 9.09%\n",
      "\n",
      "Three most common pairs:\n",
      "an: 14.29%\n",
      "nm: 14.29%\n",
      "mo: 14.29%\n"
     ]
    }
   ],
   "source": [
    "text = input(\"Enter a text terminated by a null character: \")\n",
    "text = text.lower()\n",
    "letter_count = {}\n",
    "pair_count = {}\n",
    "\n",
    "# Count the frequency of each individual letter\n",
    "for letter in text:\n",
    "    if letter.isalpha():\n",
    "        if letter in letter_count:\n",
    "            letter_count[letter] += 1\n",
    "        else:\n",
    "            letter_count[letter] = 1\n",
    "\n",
    "# Count the frequency of each pair of adjacent letters\n",
    "for i in range(len(text)-1):\n",
    "    if text[i].isalpha() and text[i+1].isalpha():\n",
    "        pair = text[i:i+2]\n",
    "        if pair in pair_count:\n",
    "            pair_count[pair] += 1\n",
    "        else:\n",
    "            pair_count[pair] = 1\n",
    "\n",
    "# Calculate the frequency of each individual letter as a percentage of the total number of letters\n",
    "total_letters = sum(letter_count.values())\n",
    "letter_frequency = {letter: count/total_letters*100 for letter, count in letter_count.items()}\n",
    "\n",
    "# Calculate the frequency of each pair of adjacent letters as a percentage of the total number of pairs\n",
    "total_pairs = sum(pair_count.values())\n",
    "pair_frequency = {pair: count/total_pairs*100 for pair, count in pair_count.items()}\n",
    "\n",
    "# Print the individual letter frequencies\n",
    "print(\"Individual letter frequencies:\")\n",
    "for letter, frequency in letter_frequency.items():\n",
    "    print(\"{}: {:.2f}%\".format(letter, frequency))\n",
    "\n",
    "# Print the three most common pairs\n",
    "print(\"\\nThree most common pairs:\")\n",
    "most_common_pairs = sorted(pair_frequency.items(), key=lambda x: x[1], reverse=True)[:3]\n",
    "for pair, frequency in most_common_pairs:\n",
    "    print(\"{}: {:.2f}%\".format(pair, frequency))\n"
   ]
  },
  {
   "attachments": {},
   "cell_type": "markdown",
   "metadata": {},
   "source": [
    "22.\tTrimming can be described as a process of removing from the end of a string of characters some selection of characters."
   ]
  },
  {
   "cell_type": "code",
   "execution_count": 43,
   "metadata": {},
   "outputs": [
    {
     "name": "stdout",
     "output_type": "stream",
     "text": [
      "Trimmed string: anmol is a \n"
     ]
    }
   ],
   "source": [
    "def trim(string, chars):\n",
    "    start = 0\n",
    "    end = len(string) - 1\n",
    "    while start < end and string[start] in chars:\n",
    "        start += 1\n",
    "    while end > start and string[end] in chars:\n",
    "        end -= 1\n",
    "    return string[start:end+1]\n",
    "\n",
    "def main():\n",
    "    string = input(\"Enter a string: \")\n",
    "    chars = input(\"Enter the characters to be trimmed: \")\n",
    "    print(f\"Trimmed string: {trim(string, chars)}\")\n",
    "\n",
    "if __name__ == \"__main__\":\n",
    "    main()\n"
   ]
  },
  {
   "attachments": {},
   "cell_type": "markdown",
   "metadata": {},
   "source": [
    "23 write a code in python In a possible tax system, income earners might pay (for instance) nothing on their first $4000 income, 15% on the next $5000, 30% on the next $6000 and 50% on the remainder. Write a program which reads the income levels and percentage for such a four part system and then prints a table of tax payable on income from 0 to $ 25000 in the steps of $ 250."
   ]
  },
  {
   "cell_type": "code",
   "execution_count": 44,
   "metadata": {},
   "outputs": [
    {
     "name": "stdout",
     "output_type": "stream",
     "text": [
      "Income | Tax\n",
      "0       | 0.00\n",
      "250     | 0.00\n",
      "500     | 0.00\n",
      "750     | 0.00\n",
      "1000    | 0.00\n",
      "1250    | 0.00\n",
      "1500    | 0.00\n",
      "1750    | 0.00\n",
      "2000    | 0.00\n",
      "2250    | 0.00\n",
      "2500    | 0.00\n",
      "2750    | 0.00\n",
      "3000    | 0.00\n",
      "3250    | 0.00\n",
      "3500    | 0.00\n",
      "3750    | 0.00\n",
      "4000    | 0.00\n",
      "4250    | 37.50\n",
      "4500    | 75.00\n",
      "4750    | 112.50\n",
      "5000    | 150.00\n",
      "5250    | 187.50\n",
      "5500    | 225.00\n",
      "5750    | 262.50\n",
      "6000    | 300.00\n",
      "6250    | 337.50\n",
      "6500    | 375.00\n",
      "6750    | 412.50\n",
      "7000    | 450.00\n",
      "7250    | 487.50\n",
      "7500    | 525.00\n",
      "7750    | 562.50\n",
      "8000    | 600.00\n",
      "8250    | 637.50\n",
      "8500    | 675.00\n",
      "8750    | 712.50\n",
      "9000    | 750.00\n",
      "9250    | 825.00\n",
      "9500    | 900.00\n",
      "9750    | 975.00\n",
      "10000   | 1050.00\n",
      "10250   | 1125.00\n",
      "10500   | 1200.00\n",
      "10750   | 1275.00\n",
      "11000   | 1350.00\n",
      "11250   | 1425.00\n",
      "11500   | 1500.00\n",
      "11750   | 1575.00\n",
      "12000   | 1650.00\n",
      "12250   | 1725.00\n",
      "12500   | 1800.00\n",
      "12750   | 1875.00\n",
      "13000   | 1950.00\n",
      "13250   | 2025.00\n",
      "13500   | 2100.00\n",
      "13750   | 2175.00\n",
      "14000   | 2250.00\n",
      "14250   | 2325.00\n",
      "14500   | 2400.00\n",
      "14750   | 2475.00\n",
      "15000   | 2550.00\n",
      "15250   | 2675.00\n",
      "15500   | 2800.00\n",
      "15750   | 2925.00\n",
      "16000   | 3050.00\n",
      "16250   | 3175.00\n",
      "16500   | 3300.00\n",
      "16750   | 3425.00\n",
      "17000   | 3550.00\n",
      "17250   | 3675.00\n",
      "17500   | 3800.00\n",
      "17750   | 3925.00\n",
      "18000   | 4050.00\n",
      "18250   | 4175.00\n",
      "18500   | 4300.00\n",
      "18750   | 4425.00\n",
      "19000   | 4550.00\n",
      "19250   | 4675.00\n",
      "19500   | 4800.00\n",
      "19750   | 4925.00\n",
      "20000   | 5050.00\n",
      "20250   | 5175.00\n",
      "20500   | 5300.00\n",
      "20750   | 5425.00\n",
      "21000   | 5550.00\n",
      "21250   | 5675.00\n",
      "21500   | 5800.00\n",
      "21750   | 5925.00\n",
      "22000   | 6050.00\n",
      "22250   | 6175.00\n",
      "22500   | 6300.00\n",
      "22750   | 6425.00\n",
      "23000   | 6550.00\n",
      "23250   | 6675.00\n",
      "23500   | 6800.00\n",
      "23750   | 6925.00\n",
      "24000   | 7050.00\n",
      "24250   | 7175.00\n",
      "24500   | 7300.00\n",
      "24750   | 7425.00\n",
      "25000   | 7550.00\n"
     ]
    }
   ],
   "source": [
    "def calculate_tax(income, brackets):\n",
    "    tax = 0\n",
    "    for i in range(len(brackets)):\n",
    "        if income <= brackets[i][0]:\n",
    "            tax += income * brackets[i][1]\n",
    "            break\n",
    "        tax += brackets[i][0] * brackets[i][1]\n",
    "        income -= brackets[i][0]\n",
    "    return tax\n",
    "\n",
    "def main():\n",
    "    brackets = [(4000, 0), (5000, 0.15), (6000, 0.3), (float(\"inf\"), 0.5)]\n",
    "    income = 0\n",
    "    increment = 250\n",
    "    print(\"Income | Tax\")\n",
    "    while income <= 25000:\n",
    "        tax = calculate_tax(income, brackets)\n",
    "        print(f\"{income:<7} | {tax:.2f}\")\n",
    "        income += increment\n",
    "\n",
    "if __name__ == \"__main__\":\n",
    "    main()\n"
   ]
  },
  {
   "attachments": {},
   "cell_type": "markdown",
   "metadata": {},
   "source": [
    "24.\tInput: Allow entry of positive integers only until a negative number is entered, at which point the program should terminate with return value of 1. Thus the number of input(s) is not specified. During the execution of the program, the valid inputs can range from 0 to a maximum value, defined by an int, supported by your compiler. Please note that any number can be repeated. \n",
    "Output: Prints the largest numbers, up to a maximum of four in case four or more data points have been entered. The following is a snapshot for a typical execution: \n",
    "\n",
    "Input: 1 \n",
    "Output: 1 \n",
    "Input: 2 \n",
    "Output: 1 2 \n",
    "Input: 3 \n",
    "Output: 1 2 3 \n",
    "Input: 4 \n",
    "Output: 1 2 3 4 \n",
    "Input: 5 \n",
    "Output: 2 3 4 5 \n",
    "Input: 1 \n",
    "Output: 2 3 4 5 \n",
    "Input: 5 \n",
    "Output: 3 4 5 5 \n",
    "Input: -1 \n",
    "Program terminates\n"
   ]
  },
  {
   "cell_type": "code",
   "execution_count": 46,
   "metadata": {},
   "outputs": [
    {
     "name": "stdout",
     "output_type": "stream",
     "text": [
      "You entered: 1\n",
      "You entered: 2\n",
      "You entered: 3\n",
      "You entered: 4\n",
      "You entered: 4\n",
      "You entered: 5\n",
      "You entered: 6\n"
     ]
    },
    {
     "data": {
      "text/plain": [
       "1"
      ]
     },
     "execution_count": 46,
     "metadata": {},
     "output_type": "execute_result"
    }
   ],
   "source": [
    "def input_integers():\n",
    "      # Keep prompting the user to enter integers until a negative number is entered\n",
    "  while True:\n",
    "    # Read the integer input\n",
    "    num = int(input(\"Enter a positive integer (enter a negative number to exit): \"))\n",
    "    \n",
    "    # If the number is negative, return 1 to terminate the program\n",
    "    if num < 0:\n",
    "      return 1\n",
    "    \n",
    "    # Print the entered number\n",
    "    print(\"You entered:\", num)\n",
    "\n",
    "# Call the function to start prompting for inputs\n",
    "input_integers()\n"
   ]
  }
 ],
 "metadata": {
  "kernelspec": {
   "display_name": "Python 3",
   "language": "python",
   "name": "python3"
  },
  "language_info": {
   "codemirror_mode": {
    "name": "ipython",
    "version": 3
   },
   "file_extension": ".py",
   "mimetype": "text/x-python",
   "name": "python",
   "nbconvert_exporter": "python",
   "pygments_lexer": "ipython3",
   "version": "3.8.5"
  },
  "orig_nbformat": 4,
  "vscode": {
   "interpreter": {
    "hash": "fbe58ca63fe33f9eeae9e71d10368d2b4a57f2b1b395836210cc60d362c66949"
   }
  }
 },
 "nbformat": 4,
 "nbformat_minor": 2
}
